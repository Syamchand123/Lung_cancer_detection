{
  "cells": [
    {
      "cell_type": "markdown",
      "metadata": {
        "id": "view-in-github",
        "colab_type": "text"
      },
      "source": [
        "<a href=\"https://colab.research.google.com/github/Syamchand123/Lung_cancer_detection/blob/colab/lung_cancer_detection.ipynb\" target=\"_parent\"><img src=\"https://colab.research.google.com/assets/colab-badge.svg\" alt=\"Open In Colab\"/></a>"
      ]
    },
    {
      "cell_type": "code",
      "execution_count": null,
      "metadata": {
        "colab": {
          "base_uri": "https://localhost:8080/"
        },
        "id": "SXNdyuL8ySbT",
        "outputId": "bb05981a-7cb7-4654-ac87-5e79a937e3bb"
      },
      "outputs": [
        {
          "output_type": "stream",
          "name": "stdout",
          "text": [
            "Mounted at /content/drive\n"
          ]
        }
      ],
      "source": [
        "from google.colab import drive\n",
        "drive.mount('/content/drive')"
      ]
    },
    {
      "cell_type": "code",
      "source": [
        "from google.colab import drive\n",
        "drive.mount('/content/drive')"
      ],
      "metadata": {
        "colab": {
          "base_uri": "https://localhost:8080/"
        },
        "id": "Mf6NEaqiSh7l",
        "outputId": "2f80f5f1-0d46-4455-c796-2ad5ec7d6b07"
      },
      "execution_count": null,
      "outputs": [
        {
          "output_type": "stream",
          "name": "stdout",
          "text": [
            "Drive already mounted at /content/drive; to attempt to forcibly remount, call drive.mount(\"/content/drive\", force_remount=True).\n"
          ]
        }
      ]
    },
    {
      "cell_type": "code",
      "execution_count": null,
      "metadata": {
        "colab": {
          "base_uri": "https://localhost:8080/"
        },
        "id": "7_MJi8ugKLS7",
        "outputId": "7f58497f-5e92-4696-b3f6-0b11c881bf41"
      },
      "outputs": [
        {
          "output_type": "stream",
          "name": "stdout",
          "text": [
            "Requirement already satisfied: tensorflow in /usr/local/lib/python3.11/dist-packages (2.18.0)\n",
            "Requirement already satisfied: matplotlib in /usr/local/lib/python3.11/dist-packages (3.10.0)\n",
            "Requirement already satisfied: opencv-python-headless in /usr/local/lib/python3.11/dist-packages (4.11.0.86)\n",
            "Requirement already satisfied: absl-py>=1.0.0 in /usr/local/lib/python3.11/dist-packages (from tensorflow) (1.4.0)\n",
            "Requirement already satisfied: astunparse>=1.6.0 in /usr/local/lib/python3.11/dist-packages (from tensorflow) (1.6.3)\n",
            "Requirement already satisfied: flatbuffers>=24.3.25 in /usr/local/lib/python3.11/dist-packages (from tensorflow) (25.1.24)\n",
            "Requirement already satisfied: gast!=0.5.0,!=0.5.1,!=0.5.2,>=0.2.1 in /usr/local/lib/python3.11/dist-packages (from tensorflow) (0.6.0)\n",
            "Requirement already satisfied: google-pasta>=0.1.1 in /usr/local/lib/python3.11/dist-packages (from tensorflow) (0.2.0)\n",
            "Requirement already satisfied: libclang>=13.0.0 in /usr/local/lib/python3.11/dist-packages (from tensorflow) (18.1.1)\n",
            "Requirement already satisfied: opt-einsum>=2.3.2 in /usr/local/lib/python3.11/dist-packages (from tensorflow) (3.4.0)\n",
            "Requirement already satisfied: packaging in /usr/local/lib/python3.11/dist-packages (from tensorflow) (24.2)\n",
            "Requirement already satisfied: protobuf!=4.21.0,!=4.21.1,!=4.21.2,!=4.21.3,!=4.21.4,!=4.21.5,<6.0.0dev,>=3.20.3 in /usr/local/lib/python3.11/dist-packages (from tensorflow) (4.25.6)\n",
            "Requirement already satisfied: requests<3,>=2.21.0 in /usr/local/lib/python3.11/dist-packages (from tensorflow) (2.32.3)\n",
            "Requirement already satisfied: setuptools in /usr/local/lib/python3.11/dist-packages (from tensorflow) (75.1.0)\n",
            "Requirement already satisfied: six>=1.12.0 in /usr/local/lib/python3.11/dist-packages (from tensorflow) (1.17.0)\n",
            "Requirement already satisfied: termcolor>=1.1.0 in /usr/local/lib/python3.11/dist-packages (from tensorflow) (2.5.0)\n",
            "Requirement already satisfied: typing-extensions>=3.6.6 in /usr/local/lib/python3.11/dist-packages (from tensorflow) (4.12.2)\n",
            "Requirement already satisfied: wrapt>=1.11.0 in /usr/local/lib/python3.11/dist-packages (from tensorflow) (1.17.2)\n",
            "Requirement already satisfied: grpcio<2.0,>=1.24.3 in /usr/local/lib/python3.11/dist-packages (from tensorflow) (1.70.0)\n",
            "Requirement already satisfied: tensorboard<2.19,>=2.18 in /usr/local/lib/python3.11/dist-packages (from tensorflow) (2.18.0)\n",
            "Requirement already satisfied: keras>=3.5.0 in /usr/local/lib/python3.11/dist-packages (from tensorflow) (3.8.0)\n",
            "Requirement already satisfied: numpy<2.1.0,>=1.26.0 in /usr/local/lib/python3.11/dist-packages (from tensorflow) (1.26.4)\n",
            "Requirement already satisfied: h5py>=3.11.0 in /usr/local/lib/python3.11/dist-packages (from tensorflow) (3.12.1)\n",
            "Requirement already satisfied: ml-dtypes<0.5.0,>=0.4.0 in /usr/local/lib/python3.11/dist-packages (from tensorflow) (0.4.1)\n",
            "Requirement already satisfied: tensorflow-io-gcs-filesystem>=0.23.1 in /usr/local/lib/python3.11/dist-packages (from tensorflow) (0.37.1)\n",
            "Requirement already satisfied: contourpy>=1.0.1 in /usr/local/lib/python3.11/dist-packages (from matplotlib) (1.3.1)\n",
            "Requirement already satisfied: cycler>=0.10 in /usr/local/lib/python3.11/dist-packages (from matplotlib) (0.12.1)\n",
            "Requirement already satisfied: fonttools>=4.22.0 in /usr/local/lib/python3.11/dist-packages (from matplotlib) (4.55.7)\n",
            "Requirement already satisfied: kiwisolver>=1.3.1 in /usr/local/lib/python3.11/dist-packages (from matplotlib) (1.4.8)\n",
            "Requirement already satisfied: pillow>=8 in /usr/local/lib/python3.11/dist-packages (from matplotlib) (11.1.0)\n",
            "Requirement already satisfied: pyparsing>=2.3.1 in /usr/local/lib/python3.11/dist-packages (from matplotlib) (3.2.1)\n",
            "Requirement already satisfied: python-dateutil>=2.7 in /usr/local/lib/python3.11/dist-packages (from matplotlib) (2.8.2)\n",
            "Requirement already satisfied: wheel<1.0,>=0.23.0 in /usr/local/lib/python3.11/dist-packages (from astunparse>=1.6.0->tensorflow) (0.45.1)\n",
            "Requirement already satisfied: rich in /usr/local/lib/python3.11/dist-packages (from keras>=3.5.0->tensorflow) (13.9.4)\n",
            "Requirement already satisfied: namex in /usr/local/lib/python3.11/dist-packages (from keras>=3.5.0->tensorflow) (0.0.8)\n",
            "Requirement already satisfied: optree in /usr/local/lib/python3.11/dist-packages (from keras>=3.5.0->tensorflow) (0.14.0)\n",
            "Requirement already satisfied: charset-normalizer<4,>=2 in /usr/local/lib/python3.11/dist-packages (from requests<3,>=2.21.0->tensorflow) (3.4.1)\n",
            "Requirement already satisfied: idna<4,>=2.5 in /usr/local/lib/python3.11/dist-packages (from requests<3,>=2.21.0->tensorflow) (3.10)\n",
            "Requirement already satisfied: urllib3<3,>=1.21.1 in /usr/local/lib/python3.11/dist-packages (from requests<3,>=2.21.0->tensorflow) (2.3.0)\n",
            "Requirement already satisfied: certifi>=2017.4.17 in /usr/local/lib/python3.11/dist-packages (from requests<3,>=2.21.0->tensorflow) (2024.12.14)\n",
            "Requirement already satisfied: markdown>=2.6.8 in /usr/local/lib/python3.11/dist-packages (from tensorboard<2.19,>=2.18->tensorflow) (3.7)\n",
            "Requirement already satisfied: tensorboard-data-server<0.8.0,>=0.7.0 in /usr/local/lib/python3.11/dist-packages (from tensorboard<2.19,>=2.18->tensorflow) (0.7.2)\n",
            "Requirement already satisfied: werkzeug>=1.0.1 in /usr/local/lib/python3.11/dist-packages (from tensorboard<2.19,>=2.18->tensorflow) (3.1.3)\n",
            "Requirement already satisfied: MarkupSafe>=2.1.1 in /usr/local/lib/python3.11/dist-packages (from werkzeug>=1.0.1->tensorboard<2.19,>=2.18->tensorflow) (3.0.2)\n",
            "Requirement already satisfied: markdown-it-py>=2.2.0 in /usr/local/lib/python3.11/dist-packages (from rich->keras>=3.5.0->tensorflow) (3.0.0)\n",
            "Requirement already satisfied: pygments<3.0.0,>=2.13.0 in /usr/local/lib/python3.11/dist-packages (from rich->keras>=3.5.0->tensorflow) (2.18.0)\n",
            "Requirement already satisfied: mdurl~=0.1 in /usr/local/lib/python3.11/dist-packages (from markdown-it-py>=2.2.0->rich->keras>=3.5.0->tensorflow) (0.1.2)\n"
          ]
        }
      ],
      "source": [
        "# Install required libraries\n",
        "!pip install tensorflow matplotlib opencv-python-headless\n",
        "\n",
        "# Imports\n",
        "import tensorflow as tf\n",
        "from tensorflow.keras.models import Sequential\n",
        "from tensorflow.keras.layers import Dense, Dropout, Flatten, Conv2D, MaxPooling2D\n",
        "from tensorflow.keras.applications import ResNet50\n",
        "from tensorflow.keras.preprocessing.image import ImageDataGenerator\n",
        "import matplotlib.pyplot as plt\n",
        "import numpy as np\n",
        "import os\n"
      ]
    },
    {
      "cell_type": "code",
      "execution_count": null,
      "metadata": {
        "id": "NORjhHMIOGjr"
      },
      "outputs": [],
      "source": [
        "import tensorflow as tf\n",
        "from tensorflow.keras.models import Sequential\n",
        "from tensorflow.keras.layers import Dense, GlobalAveragePooling2D\n",
        "from tensorflow.keras.applications import MobileNetV2\n",
        "from tensorflow.keras.applications.mobilenet_v2 import preprocess_input\n",
        "from tensorflow.keras.preprocessing.image import ImageDataGenerator\n"
      ]
    },
    {
      "cell_type": "code",
      "execution_count": null,
      "metadata": {
        "colab": {
          "base_uri": "https://localhost:8080/"
        },
        "id": "Swr0qtjrMf2N",
        "outputId": "5c0d98a8-1fb2-4565-df03-94c81f1ee31d"
      },
      "outputs": [
        {
          "output_type": "stream",
          "name": "stdout",
          "text": [
            "Not found: /content/drive/MyDrive/chest_xray/images/test/labels\n",
            "Not found: /content/drive/MyDrive/chest_xray/images/train/labels\n",
            "Not found: /content/drive/MyDrive/chest_xray/images/val/labels\n"
          ]
        }
      ],
      "source": [
        "import shutil\n",
        "import os\n",
        "\n",
        "# Paths to train, test, val directories\n",
        "dirs = [\n",
        "    '/content/drive/MyDrive/chest_xray/images/test/labels',\n",
        "    '/content/drive/MyDrive/chest_xray/images/train/labels',\n",
        "    '/content/drive/MyDrive/chest_xray/images/val/labels'\n",
        "]\n",
        "\n",
        "# Remove labels directories\n",
        "for dir_path in dirs: # Fixed indentation - 4 spaces\n",
        "    if os.path.exists(dir_path):\n",
        "        shutil.rmtree(dir_path)\n",
        "        print(f\"Removed: {dir_path}\")\n",
        "    else:\n",
        "        print(f\"Not found: {dir_path}\")"
      ]
    },
    {
      "cell_type": "code",
      "execution_count": null,
      "metadata": {
        "colab": {
          "base_uri": "https://localhost:8080/"
        },
        "id": "-TSZavFmOYMJ",
        "outputId": "6ff8463e-f10a-4025-e4c4-eef521cf8d87"
      },
      "outputs": [
        {
          "output_type": "stream",
          "name": "stdout",
          "text": [
            "Found 5216 images belonging to 2 classes.\n",
            "Found 16 images belonging to 2 classes.\n",
            "Found 624 images belonging to 2 classes.\n"
          ]
        }
      ],
      "source": [
        "datagen = ImageDataGenerator(preprocessing_function=preprocess_input)\n",
        "\n",
        "train_data = datagen.flow_from_directory(\n",
        "    '/content/drive/MyDrive/chest_xray/images/train',\n",
        "    target_size=(224, 224),  # MobileNetV2 input size\n",
        "    batch_size=32,\n",
        "    class_mode='binary'\n",
        ")\n",
        "\n",
        "val_data = datagen.flow_from_directory(\n",
        "    '/content/drive/MyDrive/chest_xray/images/val',\n",
        "    target_size=(224, 224),\n",
        "    batch_size=32,\n",
        "    class_mode='binary'\n",
        ")\n",
        "\n",
        "test_data = datagen.flow_from_directory(\n",
        "    '/content/drive/MyDrive/chest_xray/images/test',\n",
        "    target_size=(224, 224),\n",
        "    batch_size=32,\n",
        "    class_mode='binary'\n",
        ")"
      ]
    },
    {
      "cell_type": "code",
      "execution_count": null,
      "metadata": {
        "colab": {
          "base_uri": "https://localhost:8080/"
        },
        "id": "sh8Um116Ofa9",
        "outputId": "77551713-4ae2-4b7a-b74e-ab54089d013e"
      },
      "outputs": [
        {
          "output_type": "stream",
          "name": "stdout",
          "text": [
            "Downloading data from https://storage.googleapis.com/tensorflow/keras-applications/mobilenet_v2/mobilenet_v2_weights_tf_dim_ordering_tf_kernels_1.0_224_no_top.h5\n",
            "\u001b[1m9406464/9406464\u001b[0m \u001b[32m━━━━━━━━━━━━━━━━━━━━\u001b[0m\u001b[37m\u001b[0m \u001b[1m2s\u001b[0m 0us/step\n"
          ]
        }
      ],
      "source": [
        "# Load the base model\n",
        "base_model = MobileNetV2(weights='imagenet', include_top=False, input_shape=(224, 224, 3))\n",
        "\n",
        "# Freeze the base model\n",
        "base_model.trainable = False\n",
        "\n",
        "# Build the model\n",
        "model = Sequential([\n",
        "    base_model,\n",
        "    GlobalAveragePooling2D(),\n",
        "    Dense(128, activation='relu'),\n",
        "    Dense(1, activation='sigmoid')  # Binary classification\n",
        "])\n",
        "\n",
        "# Compile the model\n",
        "model.compile(optimizer='adam', loss='binary_crossentropy', metrics=['accuracy']) # Corrected indentation"
      ]
    },
    {
      "cell_type": "code",
      "execution_count": null,
      "metadata": {
        "colab": {
          "base_uri": "https://localhost:8080/"
        },
        "id": "W2JONwBDOqU1",
        "outputId": "07f679e1-e3ec-4056-b5ec-233862c3c64b"
      },
      "outputs": [
        {
          "output_type": "stream",
          "name": "stderr",
          "text": [
            "/usr/local/lib/python3.11/dist-packages/keras/src/trainers/data_adapters/py_dataset_adapter.py:121: UserWarning: Your `PyDataset` class should call `super().__init__(**kwargs)` in its constructor. `**kwargs` can include `workers`, `use_multiprocessing`, `max_queue_size`. Do not pass these arguments to `fit()`, as they will be ignored.\n",
            "  self._warn_if_super_not_called()\n"
          ]
        },
        {
          "output_type": "stream",
          "name": "stdout",
          "text": [
            "Epoch 1/5\n",
            "\u001b[1m 30/163\u001b[0m \u001b[32m━━━\u001b[0m\u001b[37m━━━━━━━━━━━━━━━━━\u001b[0m \u001b[1m54:21\u001b[0m 25s/step - accuracy: 0.7351 - loss: 0.5731"
          ]
        }
      ],
      "source": [
        "# Train the model\n",
        "history = model.fit(\n",
        "    train_data,\n",
        "    validation_data=val_data,\n",
        "    epochs=5,  # Keep it low for quick results\n",
        "    steps_per_epoch=len(train_data),\n",
        "    validation_steps=len(val_data)\n",
        ")"
      ]
    },
    {
      "cell_type": "code",
      "execution_count": null,
      "metadata": {
        "colab": {
          "base_uri": "https://localhost:8080/",
          "height": 219
        },
        "id": "OQUQTtWrOhN9",
        "outputId": "d94e3ab4-9f18-4a4f-91af-979ff6b7fc3b"
      },
      "outputs": [
        {
          "output_type": "error",
          "ename": "NameError",
          "evalue": "name 'model' is not defined",
          "traceback": [
            "\u001b[0;31m---------------------------------------------------------------------------\u001b[0m",
            "\u001b[0;31mNameError\u001b[0m                                 Traceback (most recent call last)",
            "\u001b[0;32m<ipython-input-1-11a1cafe4955>\u001b[0m in \u001b[0;36m<cell line: 0>\u001b[0;34m()\u001b[0m\n\u001b[1;32m      4\u001b[0m \u001b[0;34m\u001b[0m\u001b[0m\n\u001b[1;32m      5\u001b[0m \u001b[0;31m# Evaluate the model on test data\u001b[0m\u001b[0;34m\u001b[0m\u001b[0;34m\u001b[0m\u001b[0m\n\u001b[0;32m----> 6\u001b[0;31m \u001b[0mtest_loss\u001b[0m\u001b[0;34m,\u001b[0m \u001b[0mtest_accuracy\u001b[0m \u001b[0;34m=\u001b[0m \u001b[0mmodel\u001b[0m\u001b[0;34m.\u001b[0m\u001b[0mevaluate\u001b[0m\u001b[0;34m(\u001b[0m\u001b[0mtest_data\u001b[0m\u001b[0;34m)\u001b[0m\u001b[0;34m\u001b[0m\u001b[0;34m\u001b[0m\u001b[0m\n\u001b[0m\u001b[1;32m      7\u001b[0m \u001b[0mprint\u001b[0m\u001b[0;34m(\u001b[0m\u001b[0;34mf\"Test Loss: {test_loss}\"\u001b[0m\u001b[0;34m)\u001b[0m\u001b[0;34m\u001b[0m\u001b[0;34m\u001b[0m\u001b[0m\n\u001b[1;32m      8\u001b[0m \u001b[0mprint\u001b[0m\u001b[0;34m(\u001b[0m\u001b[0;34mf\"Test Accuracy: {test_accuracy}\"\u001b[0m\u001b[0;34m)\u001b[0m\u001b[0;34m\u001b[0m\u001b[0;34m\u001b[0m\u001b[0m\n",
            "\u001b[0;31mNameError\u001b[0m: name 'model' is not defined"
          ]
        }
      ],
      "source": [
        "import numpy as np\n",
        "import matplotlib.pyplot as plt\n",
        "from sklearn.metrics import classification_report, confusion_matrix, ConfusionMatrixDisplay, precision_recall_curve, auc\n",
        "\n",
        "# Evaluate the model on test data\n",
        "test_loss, test_accuracy = model.evaluate(test_data)\n",
        "print(f\"Test Loss: {test_loss}\")\n",
        "print(f\"Test Accuracy: {test_accuracy}\")\n",
        "\n",
        "# Get true labels and predictions\n",
        "y_true = test_data.classes  # True labels\n",
        "y_pred_probs = model.predict(test_data)  # Predicted probabilities\n",
        "y_pred = np.where(y_pred_probs.ravel() > 0.5, 1, 0)  # Convert probabilities to binary predictions\n",
        "\n",
        "# Classification report (Precision, Recall, F1-score)\n",
        "print(\"\\nClassification Report:\")\n",
        "print(classification_report(y_true, y_pred, target_names=test_data.class_indices.keys()))\n",
        "\n",
        "# Confusion matrix\n",
        "conf_matrix = confusion_matrix(y_true, y_pred)\n",
        "ConfusionMatrixDisplay(confusion_matrix=conf_matrix, display_labels=test_data.class_indices.keys()).plot(cmap=\"Blues\")\n",
        "plt.title(\"Confusion Matrix\")\n",
        "plt.show()\n",
        "\n",
        "# Precision-Recall curve\n",
        "precision, recall, thresholds = precision_recall_curve(y_true, y_pred_probs.ravel())\n",
        "pr_auc = auc(recall, precision)\n",
        "\n",
        "plt.figure(figsize=(8, 6))\n",
        "plt.plot(recall, precision, label=f\"PR AUC = {pr_auc:.2f}\")\n",
        "plt.xlabel(\"Recall\")\n",
        "plt.ylabel(\"Precision\")\n",
        "plt.title(\"Precision-Recall Curve\")\n",
        "plt.legend(loc=\"lower left\")\n",
        "plt.grid()\n",
        "plt.show()\n"
      ]
    },
    {
      "cell_type": "code",
      "execution_count": null,
      "metadata": {
        "id": "Hz6Qjdlxz3wG"
      },
      "outputs": [],
      "source": [
        "import numpy as np\n",
        "import matplotlib.pyplot as plt\n",
        "from sklearn.metrics import classification_report, confusion_matrix, ConfusionMatrixDisplay, precision_recall_curve, auc\n",
        "import os\n",
        "from tensorflow.keras.preprocessing.image import array_to_img\n",
        "\n",
        "# Create a directory for saving results\n",
        "results_dir = '/content/drive/MyDrive/chest_xray/results'\n",
        "os.makedirs(results_dir, exist_ok=True)\n",
        "\n",
        "# Evaluate the model on test data\n",
        "test_loss, test_accuracy = model.evaluate(test_data)\n",
        "print(f\"Test Loss: {test_loss}\")\n",
        "print(f\"Test Accuracy: {test_accuracy}\")\n",
        "\n",
        "# Get true labels and predictions\n",
        "y_true = test_data.classes  # True labels\n",
        "y_pred_probs = model.predict(test_data)  # Predicted probabilities\n",
        "y_pred = np.where(y_pred_probs.ravel() > 0.5, 1, 0)  # Binary predictions\n",
        "\n",
        "# Rename classes for Lung Cancer detection\n",
        "class_names = ['Normal', 'Lung Cancer']\n",
        "\n",
        "# Classification report\n",
        "print(\"\\nClassification Report:\")\n",
        "class_report = classification_report(y_true, y_pred, target_names=class_names)\n",
        "print(class_report)\n",
        "\n",
        "# Save the classification report to a file\n",
        "with open(os.path.join(results_dir, 'classification_report.txt'), 'w') as f:\n",
        "    f.write(class_report)\n",
        "\n",
        "# Confusion Matrix\n",
        "conf_matrix = confusion_matrix(y_true, y_pred)\n",
        "disp = ConfusionMatrixDisplay(confusion_matrix=conf_matrix, display_labels=class_names)\n",
        "\n",
        "# Plot and save Confusion Matrix\n",
        "plt.figure(figsize=(8, 6))\n",
        "disp.plot(cmap=plt.cm.Blues, values_format='d')\n",
        "plt.title(\"Confusion Matrix\")\n",
        "plt.savefig(os.path.join(results_dir, 'confusion_matrix.png'))\n",
        "plt.show()\n",
        "\n",
        "# Precision-Recall Curve\n",
        "precision, recall, thresholds = precision_recall_curve(y_true, y_pred_probs)\n",
        "pr_auc = auc(recall, precision)\n",
        "\n",
        "plt.figure(figsize=(8, 6))\n",
        "plt.plot(recall, precision, marker='.', label=f'PR Curve (AUC = {pr_auc:.2f})')\n",
        "plt.xlabel('Recall')\n",
        "plt.ylabel('Precision')\n",
        "plt.title('Precision-Recall Curve')\n",
        "plt.legend()\n",
        "plt.grid()\n",
        "plt.savefig(os.path.join(results_dir, 'precision_recall_curve.png'))\n",
        "plt.show()\n",
        "\n",
        "# F1 Curve\n",
        "f1_scores = 2 * (precision * recall) / (precision + recall)\n",
        "plt.figure(figsize=(8, 6))\n",
        "plt.plot(thresholds, f1_scores[:-1], marker='.', label='F1 Score')\n",
        "plt.xlabel('Threshold')\n",
        "plt.ylabel('F1 Score')\n",
        "plt.title('F1 Curve')\n",
        "plt.legend()\n",
        "plt.grid()\n",
        "plt.savefig(os.path.join(results_dir, 'f1_curve.png'))\n",
        "plt.show()\n",
        "\n",
        "# Sample detected images (Random 5 from test set)\n",
        "print(\"\\nSample Detection Results:\")\n",
        "sample_indices = np.random.choice(len(test_data), 5, replace=False)\n",
        "\n",
        "for i, idx in enumerate(sample_indices):\n",
        "    img, label = test_data[idx]  # Fetch the image and label\n",
        "    pred_label = 'Lung Cancer' if y_pred[idx] == 1 else 'Normal'\n",
        "    true_label = 'Lung Cancer' if y_true[idx] == 1 else 'Normal'\n",
        "\n",
        "    plt.imshow(array_to_img(img[0]))\n",
        "    plt.title(f\"True: {true_label}, Predicted: {pred_label}\")\n",
        "    plt.axis('off')\n",
        "    plt.savefig(os.path.join(results_dir, f'sample_{i + 1}.png'))\n",
        "    plt.show()\n",
        "\n",
        "print(f\"Results saved to {results_dir}\")\n"
      ]
    },
    {
      "cell_type": "code",
      "execution_count": null,
      "metadata": {
        "id": "A4zN8CJjz5Mc"
      },
      "outputs": [],
      "source": [
        "import numpy as np\n",
        "import matplotlib.pyplot as plt\n",
        "from sklearn.metrics import precision_recall_curve\n",
        "\n",
        "# Get predictions and ground truth\n",
        "y_pred_prob = model.predict(test_data)  # Predicted probabilities\n",
        "y_true = test_data.classes              # Ground truth labels\n",
        "\n",
        "# Compute Precision and Recall values\n",
        "precision, recall, thresholds = precision_recall_curve(y_true, y_pred_prob)\n",
        "\n",
        "# Plot Precision Curve (P Curve)\n",
        "plt.figure(figsize=(8, 6))\n",
        "plt.plot(thresholds, precision[:-1], label=\"Precision Curve\", color=\"blue\")\n",
        "plt.xlabel(\"Thresholds\")\n",
        "plt.ylabel(\"Precision\")\n",
        "plt.title(\"Precision Curve\")\n",
        "plt.legend()\n",
        "plt.grid()\n",
        "plt.show()\n",
        "\n",
        "# Plot Recall Curve (R Curve)\n",
        "plt.figure(figsize=(8, 6))\n",
        "plt.plot(thresholds, recall[:-1], label=\"Recall Curve\", color=\"green\")\n",
        "plt.xlabel(\"Thresholds\")\n",
        "plt.ylabel(\"Recall\")\n",
        "plt.title(\"Recall Curve\")\n",
        "plt.legend()\n",
        "plt.grid()\n",
        "plt.show()\n"
      ]
    },
    {
      "cell_type": "code",
      "execution_count": null,
      "metadata": {
        "id": "ngf5xme3z7_4"
      },
      "outputs": [],
      "source": [
        "import numpy as np\n",
        "import matplotlib.pyplot as plt\n",
        "\n",
        "# Get predictions\n",
        "y_pred_prob = model.predict(test_data)  # Predicted probabilities\n",
        "y_pred_classes = np.where(y_pred_prob > 0.5, 1, 0)  # Predicted classes (binary classification)\n",
        "\n",
        "# Ground truth labels\n",
        "y_true = test_data.classes\n",
        "\n",
        "# Get filenames\n",
        "filenames = test_data.filepaths\n",
        "\n",
        "# Find correctly predicted indices\n",
        "correct_indices = np.where(y_pred_classes == y_true)[0]\n",
        "\n",
        "# Display a few correctly detected images\n",
        "num_images = 5  # Number of images to display\n",
        "plt.figure(figsize=(15, 10))\n",
        "\n",
        "for i, idx in enumerate(correct_indices[:num_images]):\n",
        "    img = plt.imread(filenames[idx])\n",
        "    plt.subplot(1, num_images, i + 1)\n",
        "    plt.imshow(img)\n",
        "    plt.title(f\"Correctly Detected\\nLabel: {y_true[idx]}\")\n",
        "    plt.axis(\"off\")\n",
        "\n",
        "plt.tight_layout()\n",
        "plt.show()\n"
      ]
    },
    {
      "cell_type": "code",
      "execution_count": null,
      "metadata": {
        "id": "hOI_0usS0CJp"
      },
      "outputs": [],
      "source": [
        "import numpy as np\n",
        "import matplotlib.pyplot as plt\n",
        "\n",
        "# Get predictions\n",
        "y_pred_prob = model.predict(test_data)  # Predicted probabilities\n",
        "y_pred_classes = np.where(y_pred_prob > 0.5, 1, 0)  # Predicted classes (binary classification)\n",
        "\n",
        "# Ground truth labels\n",
        "y_true = test_data.classes\n",
        "\n",
        "# Get filenames\n",
        "filenames = test_data.filepaths\n",
        "\n",
        "# Find correctly predicted indices\n",
        "correct_indices = np.where(y_pred_classes == y_true)[0]\n",
        "\n",
        "# Display a few unique correctly detected images\n",
        "num_images = 5  # Number of unique images to display\n",
        "plt.figure(figsize=(15, 10))\n",
        "\n",
        "unique_indices = set()  # To store unique indices\n",
        "count = 0  # Track displayed images\n",
        "\n",
        "for idx in correct_indices:\n",
        "    if idx not in unique_indices:  # Avoid duplicates\n",
        "        unique_indices.add(idx)\n",
        "        img = plt.imread(filenames[idx])\n",
        "        plt.subplot(1, num_images, count + 1)\n",
        "        plt.imshow(img)\n",
        "        plt.title(f\"Correctly Detected\\nLabel: {y_true[idx]}\")\n",
        "        plt.axis(\"off\")\n",
        "        count += 1\n",
        "        if count == num_images:  # Stop after displaying the desired number\n",
        "            break\n",
        "\n",
        "plt.tight_layout()\n",
        "plt.show()\n"
      ]
    },
    {
      "cell_type": "code",
      "execution_count": null,
      "metadata": {
        "id": "AVDbOuvi0DR0"
      },
      "outputs": [],
      "source": [
        "import numpy as np\n",
        "import matplotlib.pyplot as plt\n",
        "\n",
        "# Map class indices to labels\n",
        "class_labels = {0: \"Normal\", 1: \"Abnormal\"}\n",
        "\n",
        "# Get predictions\n",
        "y_pred_prob = model.predict(test_data)  # Predicted probabilities\n",
        "y_pred_classes = np.where(y_pred_prob > 0.5, 1, 0)  # Predicted classes (binary classification)\n",
        "\n",
        "# Ground truth labels\n",
        "y_true = test_data.classes\n",
        "\n",
        "# Get filenames\n",
        "filenames = test_data.filepaths\n",
        "\n",
        "# Find correctly predicted indices\n",
        "correct_indices = np.where(y_pred_classes == y_true)[0]\n",
        "\n",
        "# Display a few unique correctly detected images\n",
        "num_images = 5  # Number of unique images to display\n",
        "plt.figure(figsize=(15, 10))\n",
        "\n",
        "unique_indices = set()  # To store unique indices\n",
        "count = 0  # Track displayed images\n",
        "\n",
        "for idx in correct_indices:\n",
        "    if idx not in unique_indices:  # Avoid duplicates\n",
        "        unique_indices.add(idx)\n",
        "        img = plt.imread(filenames[idx])\n",
        "\n",
        "        # True label and predicted label\n",
        "        true_label = class_labels[y_true[idx]]\n",
        "        predicted_label = class_labels[y_pred_classes[idx]]\n",
        "\n",
        "        # Display image\n",
        "        plt.subplot(1, num_images, count + 1)\n",
        "        plt.imshow(img)\n",
        "        plt.title(f\"True: {true_label}\\nPredicted: {predicted_label}\")\n",
        "        plt.axis(\"off\")\n",
        "        count += 1\n",
        "        if count == num_images:  # Stop after displaying the desired number\n",
        "            break\n",
        "\n",
        "plt.tight_layout()\n",
        "plt.show()\n"
      ]
    }
  ],
  "metadata": {
    "accelerator": "GPU",
    "colab": {
      "gpuType": "T4",
      "provenance": [],
      "include_colab_link": true
    },
    "kernelspec": {
      "display_name": "Python 3",
      "name": "python3"
    },
    "language_info": {
      "name": "python"
    }
  },
  "nbformat": 4,
  "nbformat_minor": 0
}